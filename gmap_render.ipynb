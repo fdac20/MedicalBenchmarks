{
 "cells": [
  {
   "cell_type": "markdown",
   "metadata": {},
   "source": [
    "**Dependencies:**\n",
    "    - gmaps *\n",
    "    - easydict * [keep]\n",
    "    - geojson ** [keep]\n",
    "\n",
    "** - usually already installed\n",
    "\n",
    "\\* - probably not installed\n",
    "\n",
    "**Jupyter Extension Installation:**\n",
    "1. Enable extensions: **jupyter nbextension enable --py --sys-prefix widgetsnbextension**\n",
    "\n",
    "2. Install gmaps: **pip install gmaps**\n",
    "\n",
    "3. Enable gmaps: **jupyter nbextension enable --py --sys-prefix gmaps**\n"
   ]
  },
  {
   "cell_type": "code",
   "execution_count": 6,
   "metadata": {},
   "outputs": [],
   "source": [
    "from config import config\n",
    "import parser\n",
    "import os\n",
    "import sys\n",
    "import gmaps\n",
    "import geojson"
   ]
  },
  {
   "cell_type": "code",
   "execution_count": 9,
   "metadata": {},
   "outputs": [
    {
     "name": "stdout",
     "output_type": "stream",
     "text": [
      "Reading file:  ACCIDENT.csv\n"
     ]
    }
   ],
   "source": [
    "# import parser data:\n",
    "fars_years = parser.generateFARS(2018)\n",
    "fars_2018_files = parser.grabFiles(fars_years)\n",
    "index = 3\n",
    "print(\"Reading file: \", fars_2018_files[index])\n",
    "\n",
    "category = parser.grabCat(fars_2018_files)\n",
    "cat = category[index]\n",
    "accidents = parser.csvRead(os.path.join(parser.ROOT, fars_years, fars_2018_files[index]), cat)"
   ]
  },
  {
   "cell_type": "code",
   "execution_count": 24,
   "metadata": {
    "scrolled": false
   },
   "outputs": [
    {
     "name": "stdout",
     "output_type": "stream",
     "text": [
      "Number of accidents in 2018 US 33654\n"
     ]
    },
    {
     "data": {
      "application/vnd.jupyter.widget-view+json": {
       "model_id": "10dc731fb5944a708832e7ba4c29a052",
       "version_major": 2,
       "version_minor": 0
      },
      "text/plain": [
       "Figure(layout=FigureLayout(height='420px'))"
      ]
     },
     "metadata": {},
     "output_type": "display_data"
    }
   ],
   "source": [
    "# List coordinates:\n",
    "print('Number of accidents in 2018 US', len(accidents))\n",
    "accident_tuples = []\n",
    "for item in accidents:\n",
    "    if item['LATITUDE'] != 99.9999 and item['LONGITUD'] != 777.7777:\n",
    "        accident_tuples.append( (item['LATITUDE'], item['LONGITUD']) )\n",
    "\n",
    "fig = gmaps.figure()\n",
    "fig.add_layer(gmaps.heatmap_layer(accident_tuples))\n",
    "fig"
   ]
  },
  {
   "cell_type": "markdown",
   "metadata": {},
   "source": [
    "## Total Accident Heatmap for United States (FARS 2018)\n",
    "\n",
    "![accident heatmap in united states 2018](./accident_heatmap.png)\n",
    "\n",
    "**Note:** For best viewing experience, please run the above cell to get the interactive Google Maps"
   ]
  },
  {
   "cell_type": "code",
   "execution_count": null,
   "metadata": {},
   "outputs": [],
   "source": []
  }
 ],
 "metadata": {
  "kernelspec": {
   "display_name": "Python 3",
   "language": "python",
   "name": "python3"
  },
  "language_info": {
   "codemirror_mode": {
    "name": "ipython",
    "version": 3
   },
   "file_extension": ".py",
   "mimetype": "text/x-python",
   "name": "python",
   "nbconvert_exporter": "python",
   "pygments_lexer": "ipython3",
   "version": "3.7.6"
  }
 },
 "nbformat": 4,
 "nbformat_minor": 4
}
